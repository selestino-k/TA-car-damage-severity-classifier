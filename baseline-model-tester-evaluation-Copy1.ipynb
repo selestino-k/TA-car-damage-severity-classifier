{
 "cells": [
  {
   "cell_type": "code",
   "execution_count": 1,
   "id": "9ea3bb95",
   "metadata": {},
   "outputs": [],
   "source": [
    "import os\n",
    "import tensorflow as tf\n",
    "from tensorflow.keras.preprocessing.image import ImageDataGenerator"
   ]
  },
  {
   "cell_type": "code",
   "execution_count": 2,
   "id": "e4794fad",
   "metadata": {},
   "outputs": [],
   "source": [
    "img_width, img_height = 150, 150\n",
    "batch_size=16"
   ]
  },
  {
   "cell_type": "code",
   "execution_count": 4,
   "id": "86fe88bb",
   "metadata": {},
   "outputs": [
    {
     "name": "stdout",
     "output_type": "stream",
     "text": [
      "model loaded\n"
     ]
    }
   ],
   "source": [
    "# Load the saved model\n",
    "test_model = tf.keras.models.load_model('baselineCNN-model.keras')\n",
    "print('model loaded')"
   ]
  },
  {
   "cell_type": "code",
   "execution_count": 5,
   "id": "014b32a1",
   "metadata": {},
   "outputs": [],
   "source": [
    "# Load test dataset\n",
    "test_dir = 'data3a/test'"
   ]
  },
  {
   "cell_type": "code",
   "execution_count": 6,
   "id": "25fa341d",
   "metadata": {},
   "outputs": [
    {
     "name": "stdout",
     "output_type": "stream",
     "text": [
      "Found 150 images belonging to 3 classes.\n"
     ]
    }
   ],
   "source": [
    "test_datagen = ImageDataGenerator(\n",
    "    rescale=1./255\n",
    "   )\n",
    "\n",
    "test_generator = test_datagen.flow_from_directory(\n",
    "    test_dir,\n",
    "    target_size=(img_width, img_height),\n",
    "    batch_size=batch_size,\n",
    "    class_mode='categorical'\n",
    ")"
   ]
  },
  {
   "cell_type": "code",
   "execution_count": 8,
   "id": "9b90123c-15e5-44a3-938e-2506b7b0cedd",
   "metadata": {},
   "outputs": [
    {
     "name": "stdout",
     "output_type": "stream",
     "text": [
      "5/5 [==============================] - 1s 108ms/step\n",
      "Confusion Matrix:\n"
     ]
    },
    {
     "name": "stderr",
     "output_type": "stream",
     "text": [
      "C:\\Users\\sandi\\AppData\\Local\\Temp\\ipykernel_17004\\1241335800.py:33: UserWarning: FixedFormatter should only be used together with FixedLocator\n",
      "  ax.set_xticklabels([''] + ['minor', 'moderate', 'severe'], rotation=45)#predicted\n",
      "C:\\Users\\sandi\\AppData\\Local\\Temp\\ipykernel_17004\\1241335800.py:34: UserWarning: FixedFormatter should only be used together with FixedLocator\n",
      "  ax.set_yticklabels([''] + ['minor', 'moderate', 'severe'])#actual\n"
     ]
    },
    {
     "data": {
      "image/png": "[encoded data removed]",
      "text/plain": [
       "<Figure size 640x480 with 2 Axes>"
      ]
     },
     "metadata": {},
     "output_type": "display_data"
    },
    {
     "name": "stdout",
     "output_type": "stream",
     "text": [
      "Classification Report:\n",
      "              precision    recall  f1-score   support\n",
      "\n",
      "    01-minor       0.83      0.68      0.75        50\n",
      " 02-moderate       0.58      0.22      0.32        50\n",
      "   03-severe       0.56      1.00      0.71        50\n",
      "\n",
      "    accuracy                           0.63       150\n",
      "   macro avg       0.65      0.63      0.59       150\n",
      "weighted avg       0.65      0.63      0.59       150\n",
      "\n"
     ]
    }
   ],
   "source": [
    "import matplotlib.pyplot as plt\n",
    "import numpy as np\n",
    "\n",
    "test_images, test_labels = [], []\n",
    "class_names = sorted(test_generator.class_indices.keys())\n",
    "for i in range(len(test_generator)):\n",
    "    images, labels = test_generator[i]\n",
    "    test_images.extend(images)\n",
    "    test_labels.extend(np.argmax(labels, axis=1))\n",
    "\n",
    "\n",
    "test_images = np.array(test_images)\n",
    "test_labels = np.array(test_labels)\n",
    "\n",
    "predictions = test_model.predict(test_images)\n",
    "\n",
    "from sklearn.metrics import confusion_matrix, classification_report\n",
    "\n",
    "y_pred = np.argmax(predictions, axis=1)\n",
    "y_true = test_labels\n",
    "\n",
    "confusion_matrix = confusion_matrix(y_true, y_pred)\n",
    "fig, ax = plt.subplots()\n",
    "cax = ax.matshow(confusion_matrix, cmap='Blues')\n",
    "\n",
    "cbar = fig.colorbar(cax)\n",
    "\n",
    "ax.set_title('Baseline CNN')\n",
    "\n",
    "ax.set_xlabel('predicted') #predicted\n",
    "ax.set_ylabel('actual') #actual\n",
    "\n",
    "ax.set_xticklabels([''] + ['minor', 'moderate', 'severe'], rotation=45)#predicted\n",
    "ax.set_yticklabels([''] + ['minor', 'moderate', 'severe'])#actual\n",
    "\n",
    "for i in range(confusion_matrix.shape[0]):\n",
    "    for j in range(confusion_matrix.shape[1]):\n",
    "        ax.text(j, i, str(confusion_matrix[i, j]), ha='center', va='center')\n",
    "print('Confusion Matrix:')\n",
    "\n",
    "plt.show()\n",
    "\n",
    "\n",
    "report = classification_report(y_true, y_pred, target_names=class_names)\n",
    "print('Classification Report:')\n",
    "print(report)"
   ]
  },
  {
   "cell_type": "code",
   "execution_count": null,
   "id": "cde6d46b",
   "metadata": {},
   "outputs": [],
   "source": [
    "test_dir = 'data3a/test'\n",
    "class_names = [\"01-minor\", \"02-moderate\", \"03-severe\"]\n",
    "\n",
    "image_paths = []\n",
    "for class_name in class_names:\n",
    "    folder_path = os.path.join(test_dir, class_name)\n",
    "    for filename in os.listdir(folder_path):\n",
    "        if filename.endswith(\".jpg\") or filename.endswith(\".png\"):\n",
    "            image_paths.append(os.path.join(folder_path, filename))\n",
    "negative = 0\n",
    "positive = 0\n",
    "for image_path in image_paths:\n",
    "    img = tf.keras.preprocessing.image.load_img(image_path)\n",
    "    img = img.resize((img_width, img_height))\n",
    "    img = tf.keras.preprocessing.image.img_to_array(img)\n",
    "    img = img / 255.0\n",
    "    img = tf.expand_dims(img, axis=0)\n",
    "    pred = test_model.predict(img)\n",
    "    pred_label = class_names[np.argmax(pred)]\n",
    "    folder_name = os.path.basename(os.path.dirname(image_path))\n",
    "    plt.imshow(img[0])\n",
    "    if (pred_label != folder_name):\n",
    "        plt.title('Pred: ' + pred_label + ' Actl: ' + folder_name, color = 'red')\n",
    "        negative+=1\n",
    "    else:\n",
    "        plt.title('Pred: ' + pred_label + ' Actl: ' + folder_name, color = 'green')\n",
    "        positive+=1\n",
    "   \n",
    "    plt.axis('off')\n",
    "    plt.show() \n",
    "print('False: '+ str(negative) + '\\nTrue: ' + str(positive))"
   ]
  },
  {
   "cell_type": "code",
   "execution_count": null,
   "id": "04837ebd-b413-4124-a95a-4beada612967",
   "metadata": {},
   "outputs": [],
   "source": []
  }
 ],
 "metadata": {
  "kernelspec": {
   "display_name": "Python 3 (ipykernel)",
   "language": "python",
   "name": "python3"
  },
  "language_info": {
   "codemirror_mode": {
    "name": "ipython",
    "version": 3
   },
   "file_extension": ".py",
   "mimetype": "text/x-python",
   "name": "python",
   "nbconvert_exporter": "python",
   "pygments_lexer": "ipython3",
   "version": "3.11.9"
  }
 },
 "nbformat": 4,
 "nbformat_minor": 5
}
